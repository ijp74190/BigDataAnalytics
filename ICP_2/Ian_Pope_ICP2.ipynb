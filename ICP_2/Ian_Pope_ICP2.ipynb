{
  "nbformat": 4,
  "nbformat_minor": 0,
  "metadata": {
    "colab": {
      "provenance": []
    },
    "kernelspec": {
      "name": "python3",
      "display_name": "Python 3"
    },
    "language_info": {
      "name": "python"
    }
  },
  "cells": [
    {
      "cell_type": "markdown",
      "source": [
        "Ian Pope 700717419 ICP 2\n",
        "\n",
        "ICP 2 Question 1:\n",
        "\n",
        "\n",
        "The difference between Counter.count ans self.count is that Counter.count belongs to the class, where self._count belongs to the instance. This means that Counter.count can be changed and accessed by all instances of Counter as opposed to just a single instance for self._count.\n",
        "\n",
        "The output is:\n",
        "\n",
        "Instance count: 2, Class count: 3\n",
        "\n",
        "Instance count: 1, Class count: 3\n",
        "\n",
        "\n",
        "The increment method will raise both the class variable count and the instance variable _count by 1. The change for the class variable will be changed for all instances of Counter."
      ],
      "metadata": {
        "id": "wJ4obR-drGpL"
      }
    },
    {
      "cell_type": "markdown",
      "source": [
        "ICP 2 Question 2:\n",
        "\n",
        "Fix bug in the program"
      ],
      "metadata": {
        "id": "qlkTOg5ism_f"
      }
    },
    {
      "cell_type": "code",
      "source": [
        "#Adds the * to make the input of args into a tuple,\n",
        "# this tuple will then work with the existing code\n",
        "def sum_all(*args):\n",
        "  print(type(args))\n",
        "  return sum(args)\n",
        "\n",
        "print(\"Sum of 1, 2, 3 is:\", sum_all(1, 2, 3))\n",
        "print(\"Sum of 1, 2, 3, 4 is:\", sum_all(4, 5, 6, 7))"
      ],
      "metadata": {
        "colab": {
          "base_uri": "https://localhost:8080/"
        },
        "id": "AJyWn7bLtG_Z",
        "outputId": "d40cdbde-d265-46fa-dd38-d810d6d4e67a"
      },
      "execution_count": 18,
      "outputs": [
        {
          "output_type": "stream",
          "name": "stdout",
          "text": [
            "<class 'tuple'>\n",
            "Sum of 1, 2, 3 is: 6\n",
            "<class 'tuple'>\n",
            "Sum of 1, 2, 3, 4 is: 22\n"
          ]
        }
      ]
    },
    {
      "cell_type": "markdown",
      "source": [
        "ICP 2 Question 3:\n",
        "\n",
        "Creates a function that sorts a list of strings and returns the first word by alphabetical order."
      ],
      "metadata": {
        "id": "lr_-ZDyStrtk"
      }
    },
    {
      "cell_type": "code",
      "source": [
        "#This function creates a copy of the inptted list, sorts the copy,\n",
        "# and returns the first value\n",
        "def first_word(words):\n",
        "  sorted = words\n",
        "  sorted.sort()\n",
        "  return sorted[0]\n",
        "\n",
        "students = ['Mary', 'Zelda', 'Jimmy', 'Jack', 'Bartholomew', 'Gertrude']\n",
        "\n",
        "print(first_word(students))"
      ],
      "metadata": {
        "colab": {
          "base_uri": "https://localhost:8080/"
        },
        "id": "we-Cmx0St7O2",
        "outputId": "115032be-ef7e-4d25-918a-97851955b3dc"
      },
      "execution_count": 15,
      "outputs": [
        {
          "output_type": "stream",
          "name": "stdout",
          "text": [
            "Bartholomew\n"
          ]
        }
      ]
    },
    {
      "cell_type": "markdown",
      "source": [
        "ICP 2 Question 4:\n",
        "\n",
        "Create Employee class and functions, create a subclass FulltimeEmployee, and use the functions of the class on instances of the classes."
      ],
      "metadata": {
        "id": "AOvcX6TxzggT"
      }
    },
    {
      "cell_type": "code",
      "source": [
        "#Creates class Employee\n",
        "class Employee:\n",
        "  def __init__(self, name, family, salary, department):\n",
        "    self.name = name\n",
        "    self.salary = salary\n",
        "    self.family = family\n",
        "    self.department = department\n",
        "\n",
        "  def average_salary(self, employees):\n",
        "    sum = 0\n",
        "    for employee in employees:\n",
        "      sum += employee.salary\n",
        "    avg = sum / len(employees)\n",
        "    return avg\n",
        "\n",
        "#Fulltime Employees inherits all of Employee functions\n",
        "class FulltimeEmployee(Employee):\n",
        "  pass\n",
        "\n",
        "#Creates employees\n",
        "employee1 = Employee(\"Garret\", \"Doe\", 100000, \"IT\")\n",
        "employee2 = Employee(\"Joe\", \"Hartman\", 250000, \"Dev\")\n",
        "ft_employee1 = FulltimeEmployee(\"Alana\", \"Golden\", 160000, \"Delivery\")\n",
        "ft_employee2 = FulltimeEmployee(\"Izzy\", \"Allen\", 92000, \"HR\")\n",
        "\n",
        "#List of employees, one has all, the other only full time\n",
        "all_employees = [employee1, employee2, ft_employee1, ft_employee2]\n",
        "ft_employees = [ft_employee1, ft_employee2]\n",
        "\n",
        "#Gets the average salary for all employees, then full-time\n",
        "print(\"Average salary of all employees:\", employee1.average_salary(all_employees))\n",
        "print(\"Average salary of full time employees:\", ft_employee1.average_salary(ft_employees))\n",
        "\n"
      ],
      "metadata": {
        "colab": {
          "base_uri": "https://localhost:8080/"
        },
        "id": "VOYTwAskwg4r",
        "outputId": "ada5359b-241b-46a5-8486-30441538df4a"
      },
      "execution_count": 14,
      "outputs": [
        {
          "output_type": "stream",
          "name": "stdout",
          "text": [
            "Average salary of all employees: 150500.0\n",
            "Average salary of full time employees: 126000.0\n"
          ]
        }
      ]
    }
  ]
}