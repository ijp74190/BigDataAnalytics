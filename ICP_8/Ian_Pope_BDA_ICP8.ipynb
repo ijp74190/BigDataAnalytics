{
  "nbformat": 4,
  "nbformat_minor": 0,
  "metadata": {
    "colab": {
      "provenance": [],
      "gpuType": "T4"
    },
    "kernelspec": {
      "name": "python3",
      "display_name": "Python 3"
    },
    "language_info": {
      "name": "python"
    }
  },
  "cells": [
    {
      "cell_type": "markdown",
      "source": [
        "Ian Pope 700717419 Big Data Analytics ICP 8\n",
        "\n"
      ],
      "metadata": {
        "id": "eSqJzB3DYAv3"
      }
    },
    {
      "cell_type": "code",
      "execution_count": 3,
      "metadata": {
        "id": "0_8Nv_VOXsLs"
      },
      "outputs": [],
      "source": [
        "#pip install pyspark"
      ]
    },
    {
      "cell_type": "markdown",
      "source": [
        "Create spark context"
      ],
      "metadata": {
        "id": "w7kHUypXYK2w"
      }
    },
    {
      "cell_type": "code",
      "source": [
        "from pyspark import SparkContext\n",
        "sc = SparkContext()"
      ],
      "metadata": {
        "id": "6xStkmIeYLHL"
      },
      "execution_count": 4,
      "outputs": []
    },
    {
      "cell_type": "markdown",
      "source": [
        "1. Create RDD with first 15 natural numbers\n",
        "2. Show RDD and the number of partitions"
      ],
      "metadata": {
        "id": "WpyvXyOnYLWT"
      }
    },
    {
      "cell_type": "code",
      "source": [
        "nums = sc.parallelize([1,2,3,4,5,6,7,8,9,10,11,12,13,14,15])\n",
        "\n",
        "print(nums.collect())\n",
        "print(nums.getNumPartitions())"
      ],
      "metadata": {
        "colab": {
          "base_uri": "https://localhost:8080/"
        },
        "id": "_sHaQ2wyYLlr",
        "outputId": "7e2a946c-cae0-453b-ff63-9deab778d0c0"
      },
      "execution_count": 5,
      "outputs": [
        {
          "output_type": "stream",
          "name": "stdout",
          "text": [
            "[1, 2, 3, 4, 5, 6, 7, 8, 9, 10, 11, 12, 13, 14, 15]\n",
            "2\n"
          ]
        }
      ]
    },
    {
      "cell_type": "markdown",
      "source": [
        "3. Get first element in the nums RDD"
      ],
      "metadata": {
        "id": "DazYj8-4aibZ"
      }
    },
    {
      "cell_type": "code",
      "source": [
        "#Gets the first element of nums\n",
        "print(nums.first())"
      ],
      "metadata": {
        "colab": {
          "base_uri": "https://localhost:8080/"
        },
        "id": "ia0Ayy4lai0a",
        "outputId": "aa8b15ab-a7d3-478a-8792-3e8ffc6d51f3"
      },
      "execution_count": 6,
      "outputs": [
        {
          "output_type": "stream",
          "name": "stdout",
          "text": [
            "1\n"
          ]
        }
      ]
    },
    {
      "cell_type": "markdown",
      "source": [
        "4. Create new RDD with all entries of nums that is even"
      ],
      "metadata": {
        "id": "DpFDgEihZujs"
      }
    },
    {
      "cell_type": "code",
      "source": [
        "#Gets a new RDD that contains all entries from nums that is even\n",
        "new_nums = nums.filter(lambda x: x % 2 == 0)\n",
        "print(new_nums.collect())"
      ],
      "metadata": {
        "colab": {
          "base_uri": "https://localhost:8080/"
        },
        "id": "Xl9twBeKZu3r",
        "outputId": "afc28ad0-dfed-4de7-96d0-70c5b136bee3"
      },
      "execution_count": 7,
      "outputs": [
        {
          "output_type": "stream",
          "name": "stdout",
          "text": [
            "[2, 4, 6, 8, 10, 12, 14]\n"
          ]
        }
      ]
    },
    {
      "cell_type": "markdown",
      "source": [
        "5. Apply transformation on RDD to create new RDD with each element being the square of the original"
      ],
      "metadata": {
        "id": "6XxHSKIBaoTK"
      }
    },
    {
      "cell_type": "code",
      "source": [
        "#Apply map transformation to each element in the RDD and returns a new RDD with square of each element as an output.\n",
        "square = nums.map(lambda x: x * x)\n",
        "print(square.collect())"
      ],
      "metadata": {
        "colab": {
          "base_uri": "https://localhost:8080/"
        },
        "id": "dGmwblXAaok0",
        "outputId": "8e23a609-a11f-4a06-9821-1cf3f9f37b5b"
      },
      "execution_count": 8,
      "outputs": [
        {
          "output_type": "stream",
          "name": "stdout",
          "text": [
            "[1, 4, 9, 16, 25, 36, 49, 64, 81, 100, 121, 144, 169, 196, 225]\n"
          ]
        }
      ]
    },
    {
      "cell_type": "markdown",
      "source": [
        "6. Aggregates the elements of the RDD into the sum"
      ],
      "metadata": {
        "id": "0RqmNMQ2a6bu"
      }
    },
    {
      "cell_type": "code",
      "source": [
        "#aggregates all elements in the RDD using reduce action\n",
        "sum = nums.reduce(lambda x, y: x + y)\n",
        "print(sum)"
      ],
      "metadata": {
        "colab": {
          "base_uri": "https://localhost:8080/"
        },
        "id": "U5Ks00Iea6uy",
        "outputId": "ff892061-fe59-475a-98a5-442e03f8ca29"
      },
      "execution_count": 9,
      "outputs": [
        {
          "output_type": "stream",
          "name": "stdout",
          "text": [
            "120\n"
          ]
        }
      ]
    },
    {
      "cell_type": "markdown",
      "source": [
        "7. Save the RDD as a text file"
      ],
      "metadata": {
        "id": "NQ-sMWhibK9A"
      }
    },
    {
      "cell_type": "code",
      "source": [
        "#saves the RDD data as a text file\n",
        "nums.saveAsTextFile('nums.txt')"
      ],
      "metadata": {
        "id": "YFg0JIfqbLOE"
      },
      "execution_count": 10,
      "outputs": []
    },
    {
      "cell_type": "markdown",
      "source": [
        "8. Takes two RDDs and performs a union"
      ],
      "metadata": {
        "id": "-r8hNG-AbROr"
      }
    },
    {
      "cell_type": "code",
      "source": [
        "#take two new list RDDs and Combine them with union transformation\n",
        "nums1 = sc.parallelize([1,2,3,4,5,6,7,8,9,10])\n",
        "nums2 = sc.parallelize([11,12,13,14,15,16,17,18,19,20])\n",
        "union = nums1.union(nums2)\n",
        "print(union.collect())"
      ],
      "metadata": {
        "colab": {
          "base_uri": "https://localhost:8080/"
        },
        "id": "I1_kIukgbRg0",
        "outputId": "2e54787d-2957-4e9e-e6e6-d55feb868520"
      },
      "execution_count": 11,
      "outputs": [
        {
          "output_type": "stream",
          "name": "stdout",
          "text": [
            "[1, 2, 3, 4, 5, 6, 7, 8, 9, 10, 11, 12, 13, 14, 15, 16, 17, 18, 19, 20]\n"
          ]
        }
      ]
    },
    {
      "cell_type": "markdown",
      "source": [
        "9. Get the cartesian results of two RDDs nums1 and nums2"
      ],
      "metadata": {
        "id": "8-J-8SLWbRyx"
      }
    },
    {
      "cell_type": "code",
      "source": [
        "#Use cartesian transformation on defined list RDDs that returns a new list of ordered pairs\n",
        "cartesian = nums1.cartesian(nums2)\n",
        "print(cartesian.collect())"
      ],
      "metadata": {
        "colab": {
          "base_uri": "https://localhost:8080/"
        },
        "id": "BPMnpMjXbSFC",
        "outputId": "eb64f809-8aa8-4198-ca7a-41803d934416"
      },
      "execution_count": 12,
      "outputs": [
        {
          "output_type": "stream",
          "name": "stdout",
          "text": [
            "[(1, 11), (1, 12), (1, 13), (1, 14), (1, 15), (2, 11), (2, 12), (2, 13), (2, 14), (2, 15), (3, 11), (3, 12), (3, 13), (3, 14), (3, 15), (4, 11), (4, 12), (4, 13), (4, 14), (4, 15), (5, 11), (5, 12), (5, 13), (5, 14), (5, 15), (1, 16), (1, 17), (1, 18), (1, 19), (1, 20), (2, 16), (2, 17), (2, 18), (2, 19), (2, 20), (3, 16), (3, 17), (3, 18), (3, 19), (3, 20), (4, 16), (4, 17), (4, 18), (4, 19), (4, 20), (5, 16), (5, 17), (5, 18), (5, 19), (5, 20), (6, 11), (6, 12), (6, 13), (6, 14), (6, 15), (7, 11), (7, 12), (7, 13), (7, 14), (7, 15), (8, 11), (8, 12), (8, 13), (8, 14), (8, 15), (9, 11), (9, 12), (9, 13), (9, 14), (9, 15), (10, 11), (10, 12), (10, 13), (10, 14), (10, 15), (6, 16), (6, 17), (6, 18), (6, 19), (6, 20), (7, 16), (7, 17), (7, 18), (7, 19), (7, 20), (8, 16), (8, 17), (8, 18), (8, 19), (8, 20), (9, 16), (9, 17), (9, 18), (9, 19), (9, 20), (10, 16), (10, 17), (10, 18), (10, 19), (10, 20)]\n"
          ]
        }
      ]
    },
    {
      "cell_type": "markdown",
      "source": [
        "10. Create an RDD from a dictionary"
      ],
      "metadata": {
        "id": "P3LYEz0gbSWR"
      }
    },
    {
      "cell_type": "code",
      "source": [
        "#Create an RDD with Dictionary\n",
        "rdd = sc.parallelize([{\"name\": \"Alice\", \"age\": 25}, {\"name\": \"Bob\", \"age\": 30}, {\"name\": \"Charlie\", \"age\": 35}])\n",
        "print(rdd.collect())"
      ],
      "metadata": {
        "colab": {
          "base_uri": "https://localhost:8080/"
        },
        "id": "WvuFTpw-bSuN",
        "outputId": "f3301f39-00d3-42ed-8e4e-5ebf40246cf7"
      },
      "execution_count": 13,
      "outputs": [
        {
          "output_type": "stream",
          "name": "stdout",
          "text": [
            "[{'name': 'Alice', 'age': 25}, {'name': 'Bob', 'age': 30}, {'name': 'Charlie', 'age': 35}]\n"
          ]
        }
      ]
    },
    {
      "cell_type": "markdown",
      "source": [
        "11. Get the the values in the RDD and their respective counts"
      ],
      "metadata": {
        "id": "npSzpTKCbyml"
      }
    },
    {
      "cell_type": "code",
      "source": [
        "#Get unique value in nums as the key and its count as the value\n",
        "new_nums = sc.parallelize([1,2,1,1,4,6,7,2,3,4,5,2,2,4,1])\n",
        "unique = new_nums.map(lambda x: (x, 1)).reduceByKey(lambda x, y: x + y)\n",
        "print(unique.collect())"
      ],
      "metadata": {
        "colab": {
          "base_uri": "https://localhost:8080/"
        },
        "id": "3uBogoWhby3C",
        "outputId": "80a20639-36e2-4537-e798-0643b97822ea"
      },
      "execution_count": 14,
      "outputs": [
        {
          "output_type": "stream",
          "name": "stdout",
          "text": [
            "[(2, 4), (4, 3), (6, 1), (1, 4), (7, 1), (3, 1), (5, 1)]\n"
          ]
        }
      ]
    },
    {
      "cell_type": "markdown",
      "source": [
        "12. Creates an RDD from text files"
      ],
      "metadata": {
        "id": "8dulcYZibzF2"
      }
    },
    {
      "cell_type": "code",
      "source": [
        "#Create RDD by combining multiple .text files\n",
        "new_nums.saveAsTextFile('new_nums.txt')\n",
        "texts = sc.textFile(\"*.txt\")\n",
        "print(texts.collect())"
      ],
      "metadata": {
        "colab": {
          "base_uri": "https://localhost:8080/"
        },
        "id": "3FENYTCLbzX_",
        "outputId": "cb40d37c-2e88-4b01-91a8-9d8942f22464"
      },
      "execution_count": 15,
      "outputs": [
        {
          "output_type": "stream",
          "name": "stdout",
          "text": [
            "['2', '3', '4', '5', '2', '2', '4', '1', '1', '2', '1', '1', '4', '6', '7', '8', '9', '10', '11', '12', '13', '14', '15', '1', '2', '3', '4', '5', '6', '7']\n"
          ]
        }
      ]
    },
    {
      "cell_type": "markdown",
      "source": [
        "13. Get the first 5 lines from the rdd"
      ],
      "metadata": {
        "id": "XnMRWcTxbzpP"
      }
    },
    {
      "cell_type": "code",
      "source": [
        "#Inspect the First 5 Lines of an RDD\n",
        "texts.take(5)"
      ],
      "metadata": {
        "colab": {
          "base_uri": "https://localhost:8080/"
        },
        "id": "IpWej2Pabz42",
        "outputId": "1d7a17c8-d7a6-42b1-eb91-708fecaea7a8"
      },
      "execution_count": 16,
      "outputs": [
        {
          "output_type": "execute_result",
          "data": {
            "text/plain": [
              "['2', '3', '4', '5', '2']"
            ]
          },
          "metadata": {},
          "execution_count": 16
        }
      ]
    },
    {
      "cell_type": "markdown",
      "source": [
        "14. Create a dataframe with pyspark"
      ],
      "metadata": {
        "id": "-0_m76vdb0nm"
      }
    },
    {
      "cell_type": "code",
      "source": [
        "from pyspark.sql import SparkSession\n",
        "from pyspark.sql import Row\n",
        "\n",
        "spark = SparkSession.builder.getOrCreate()\n",
        "df = spark.createDataFrame([\n",
        "    Row(a=1, b=2., c='string1'),\n",
        "    Row(a=2, b=3., c='string2'),\n",
        "    Row(a=4, b=5., c='string3')\n",
        "])\n",
        "print(df)"
      ],
      "metadata": {
        "colab": {
          "base_uri": "https://localhost:8080/"
        },
        "id": "urrfj-H8b03F",
        "outputId": "e877a39b-f165-44a6-954e-aa2265801164"
      },
      "execution_count": 17,
      "outputs": [
        {
          "output_type": "stream",
          "name": "stdout",
          "text": [
            "DataFrame[a: bigint, b: double, c: string]\n"
          ]
        }
      ]
    },
    {
      "cell_type": "markdown",
      "source": [
        "15. Show the difference between an RDD, Dataframe, and Dataset with an example"
      ],
      "metadata": {
        "id": "8YXeHshuflWe"
      }
    },
    {
      "cell_type": "code",
      "source": [
        "#Create a dataframe\n",
        "df = spark.createDataFrame([(\"Alice\", 1), (\"Bob\", 2), (\"Charlie\", 3), (\"David\", 4)], [\"Name\", \"Value\"])\n",
        "\n",
        "#Make the dataframe into a table so that it works with sql\n",
        "df.createOrReplaceTempView(\"people\")\n",
        "\n",
        "# Perform an SQL query on the DataFrame\n",
        "df_sql_result = spark.sql(\"SELECT Name, Value FROM people WHERE Value > 2\")\n",
        "df_sql_result.show()\n",
        "\n",
        "#Use the same data for a RDD\n",
        "rdd = spark.sparkContext.parallelize([(\"Alice\", 1), (\"Bob\", 2), (\"Charlie\", 3), (\"David\", 4)])\n",
        "\n",
        "#Trying to run a sql query on an RDD\n",
        "rdd.createOrReplaceTempView(\"people\")\n",
        "rdd_sql_result = spark.sql(\"SELECT Name, Value FROM people WHERE Value > 2\")\n",
        "rdd_sql_result.show()\n"
      ],
      "metadata": {
        "colab": {
          "base_uri": "https://localhost:8080/",
          "height": 332
        },
        "id": "HtUMEJnKfll7",
        "outputId": "d192588f-69c3-44bf-fca4-1ddb3f1f5435"
      },
      "execution_count": 19,
      "outputs": [
        {
          "output_type": "stream",
          "name": "stdout",
          "text": [
            "+-------+-----+\n",
            "|   Name|Value|\n",
            "+-------+-----+\n",
            "|Charlie|    3|\n",
            "|  David|    4|\n",
            "+-------+-----+\n",
            "\n"
          ]
        },
        {
          "output_type": "error",
          "ename": "AttributeError",
          "evalue": "'RDD' object has no attribute 'createOrReplaceTempView'",
          "traceback": [
            "\u001b[0;31m---------------------------------------------------------------------------\u001b[0m",
            "\u001b[0;31mAttributeError\u001b[0m                            Traceback (most recent call last)",
            "\u001b[0;32m<ipython-input-19-543e86da27a5>\u001b[0m in \u001b[0;36m<cell line: 15>\u001b[0;34m()\u001b[0m\n\u001b[1;32m     13\u001b[0m \u001b[0;34m\u001b[0m\u001b[0m\n\u001b[1;32m     14\u001b[0m \u001b[0;31m#Trying to run a sql query on an RDD\u001b[0m\u001b[0;34m\u001b[0m\u001b[0;34m\u001b[0m\u001b[0m\n\u001b[0;32m---> 15\u001b[0;31m \u001b[0mrdd\u001b[0m\u001b[0;34m.\u001b[0m\u001b[0mcreateOrReplaceTempView\u001b[0m\u001b[0;34m(\u001b[0m\u001b[0;34m\"people\"\u001b[0m\u001b[0;34m)\u001b[0m\u001b[0;34m\u001b[0m\u001b[0;34m\u001b[0m\u001b[0m\n\u001b[0m\u001b[1;32m     16\u001b[0m \u001b[0mrdd_sql_result\u001b[0m \u001b[0;34m=\u001b[0m \u001b[0mspark\u001b[0m\u001b[0;34m.\u001b[0m\u001b[0msql\u001b[0m\u001b[0;34m(\u001b[0m\u001b[0;34m\"SELECT Name, Value FROM people WHERE Value > 2\"\u001b[0m\u001b[0;34m)\u001b[0m\u001b[0;34m\u001b[0m\u001b[0;34m\u001b[0m\u001b[0m\n\u001b[1;32m     17\u001b[0m \u001b[0mrdd_sql_result\u001b[0m\u001b[0;34m.\u001b[0m\u001b[0mshow\u001b[0m\u001b[0;34m(\u001b[0m\u001b[0;34m)\u001b[0m\u001b[0;34m\u001b[0m\u001b[0;34m\u001b[0m\u001b[0m\n",
            "\u001b[0;31mAttributeError\u001b[0m: 'RDD' object has no attribute 'createOrReplaceTempView'"
          ]
        }
      ]
    }
  ]
}