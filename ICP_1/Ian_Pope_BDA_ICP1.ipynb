{
  "nbformat": 4,
  "nbformat_minor": 0,
  "metadata": {
    "colab": {
      "provenance": []
    },
    "kernelspec": {
      "name": "python3",
      "display_name": "Python 3"
    },
    "language_info": {
      "name": "python"
    }
  },
  "cells": [
    {
      "cell_type": "markdown",
      "source": [
        "Ian Pope 700717419 Big Data Analytics ICP 1 Step 5"
      ],
      "metadata": {
        "id": "U4DJkuyoqZ-u"
      }
    },
    {
      "cell_type": "code",
      "execution_count": 12,
      "metadata": {
        "colab": {
          "base_uri": "https://localhost:8080/"
        },
        "id": "95KqNgwxoePJ",
        "outputId": "b3117bc6-4f43-4f02-cd6a-e49a00b757d2"
      },
      "outputs": [
        {
          "output_type": "stream",
          "name": "stdout",
          "text": [
            "Enter a string: python\n",
            "htyp\n",
            "Enter first number: 3\n",
            "Enter second number: 4\n",
            "7\n",
            "-1\n",
            "81\n",
            "0\n"
          ]
        }
      ],
      "source": [
        "#Part One: Delete 2 letters and reverse string\n",
        "user_input = list(input(\"Enter a string: \"))\n",
        "user_input = user_input[:len(user_input) - 2]\n",
        "reversed_input = []\n",
        "for i in range (len(user_input)-1, -1, -1):\n",
        "  reversed_input.append(user_input[i])\n",
        "print(''.join(reversed_input))\n",
        "\n",
        "#Part Two: perform operations of numbers\n",
        "num1 = eval(input(\"Enter first number: \"))\n",
        "num2 = eval(input(\"Enter second number: \"))\n",
        "print(num1 + num2)\n",
        "print(num1 - num2)\n",
        "print(num1 ** num2)\n",
        "print(num1 // num2)"
      ]
    },
    {
      "cell_type": "markdown",
      "source": [
        "ICP 1 Step 6: Replace python with pythons"
      ],
      "metadata": {
        "id": "aHLyLpmSqZIW"
      }
    },
    {
      "cell_type": "code",
      "source": [
        "\n",
        "user_string = input(\"Enter a sentence: \")\n",
        "user_string = user_string.replace(\"python\", \"pythons\")\n",
        "print(user_string)"
      ],
      "metadata": {
        "colab": {
          "base_uri": "https://localhost:8080/"
        },
        "id": "rWcvs2MiufL8",
        "outputId": "949a1fec-fe3d-4337-ee5a-e04426869213"
      },
      "execution_count": 13,
      "outputs": [
        {
          "output_type": "stream",
          "name": "stdout",
          "text": [
            "Enter a sentence: i love python\n",
            "i love pythons\n"
          ]
        }
      ]
    },
    {
      "cell_type": "markdown",
      "source": [
        "ICP 1 Step 7: Get letter grade from number grade"
      ],
      "metadata": {
        "id": "0uyoEWriwIWv"
      }
    },
    {
      "cell_type": "code",
      "source": [
        "grade = eval(input(\"Enter grade: \"))\n",
        "if grade >= 90:\n",
        "  letter_grade = \"A\"\n",
        "elif grade >= 80:\n",
        "  letter_grade = \"B\"\n",
        "elif grade >= 70:\n",
        "  letter_grade = \"C\"\n",
        "elif grade >= 60:\n",
        "  letter_grade = \"D\"\n",
        "else:\n",
        "  letter_grade = \"F\"\n",
        "print(\"Letter Grade:\", letter_grade)"
      ],
      "metadata": {
        "id": "RJza0wj1wSDv",
        "colab": {
          "base_uri": "https://localhost:8080/"
        },
        "outputId": "b3ac50cc-570c-45dd-b93c-01c1da1ff0aa"
      },
      "execution_count": 14,
      "outputs": [
        {
          "output_type": "stream",
          "name": "stdout",
          "text": [
            "Enter grade: 74\n",
            "Letter Grade: C\n"
          ]
        }
      ]
    },
    {
      "cell_type": "markdown",
      "source": [
        "ICP 1 Step 8: Get list of types"
      ],
      "metadata": {
        "id": "RYjw3gHgw_LX"
      }
    },
    {
      "cell_type": "code",
      "source": [
        "my_list = [23, 'Python', 23.98]\n",
        "type_list = []\n",
        "for thing in my_list:\n",
        "  type_list.append(type(thing))\n",
        "print(my_list)\n",
        "print(type_list)"
      ],
      "metadata": {
        "colab": {
          "base_uri": "https://localhost:8080/"
        },
        "id": "VesDECHuxBVI",
        "outputId": "eccff06c-86bf-4821-ac2f-ba2bf0ef76ea"
      },
      "execution_count": 15,
      "outputs": [
        {
          "output_type": "stream",
          "name": "stdout",
          "text": [
            "[23, 'Python', 23.98]\n",
            "[<class 'int'>, <class 'str'>, <class 'float'>]\n"
          ]
        }
      ]
    },
    {
      "cell_type": "markdown",
      "source": [
        "ICP 1 Step 9: Sets"
      ],
      "metadata": {
        "id": "-hoG-r3Zeij8"
      }
    },
    {
      "cell_type": "code",
      "source": [
        "IT_companies = {'Facebook', 'Google', 'Microsoft', 'Apple', 'IBM', 'Oracle', 'Amazon'}\n",
        "A = {19, 22, 24, 20, 25, 26}\n",
        "B = {19, 22, 20, 25, 26, 24, 28, 27}\n",
        "age = [22, 19, 24, 25, 26, 24, 25, 24]\n",
        "\n",
        "print(IT_companies)\n",
        "print(\"The length of IT_companies is\", len(IT_companies))\n",
        "\n",
        "#Add to set\n",
        "IT_companies.add('Twitter')\n",
        "print(IT_companies)\n",
        "\n",
        "#Add multiple to set\n",
        "IT_companies.update(['Meta', 'Tesla'])\n",
        "print(IT_companies)\n",
        "\n",
        "#Remove from set\n",
        "IT_companies.remove('Microsoft')\n",
        "print(IT_companies)\n",
        "\n",
        "#Explain the difference between remove and discard\n",
        "print(\"The remove() method will raise an error if the item does not exist, while the discard() method will not\")\n",
        "\n",
        "print('A join B', A.union(B))\n",
        "print('A intersection B', A.intersection(B))\n",
        "print('Is A a subset of B:', A.issubset(B))\n",
        "print('Are A and B disjoint sets:', A.isdisjoint(B))\n",
        "\n",
        "\n",
        "print(A.union(B))\n",
        "print(B.union(A))\n",
        "print('A union B and B union A are the same')\n",
        "\n",
        "print('A and B symetric difference', A.symmetric_difference(B))\n",
        "\n",
        "#Delete sets\n",
        "del A\n",
        "del B\n",
        "\n",
        "#Convert age to set and compare lengths\n",
        "print(len(age))\n",
        "print(len(set(age)), 'The length is smaller for the set')"
      ],
      "metadata": {
        "colab": {
          "base_uri": "https://localhost:8080/"
        },
        "id": "jDG9D9ULelgl",
        "outputId": "6105bcbf-0d68-46d6-8151-d1a43548bfd1"
      },
      "execution_count": 16,
      "outputs": [
        {
          "output_type": "stream",
          "name": "stdout",
          "text": [
            "{'Apple', 'Oracle', 'IBM', 'Microsoft', 'Google', 'Facebook', 'Amazon'}\n",
            "The length of IT_companies is 7\n",
            "{'Apple', 'Oracle', 'IBM', 'Microsoft', 'Twitter', 'Google', 'Facebook', 'Amazon'}\n",
            "{'Apple', 'Meta', 'Tesla', 'Amazon', 'Microsoft', 'Google', 'Oracle', 'IBM', 'Facebook', 'Twitter'}\n",
            "{'Apple', 'Meta', 'Tesla', 'Amazon', 'Google', 'Oracle', 'IBM', 'Facebook', 'Twitter'}\n",
            "The remove() method will raise an error if the item does not exist, while the discard() method will not\n",
            "A join B {19, 20, 22, 24, 25, 26, 27, 28}\n",
            "A intersection B {19, 20, 22, 24, 25, 26}\n",
            "Is A a subset of B: True\n",
            "Are A and B disjoint sets: False\n",
            "{19, 20, 22, 24, 25, 26, 27, 28}\n",
            "{19, 20, 22, 24, 25, 26, 27, 28}\n",
            "A union B and B union A are the same\n",
            "A and B symetric difference {27, 28}\n",
            "8\n",
            "5 The length is smaller\n"
          ]
        }
      ]
    }
  ]
}